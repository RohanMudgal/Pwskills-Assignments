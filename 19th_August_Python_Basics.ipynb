{
 "cells": [
  {
   "cell_type": "markdown",
   "id": "d7dee024-e431-4fe9-8604-68e6d4a8e06e",
   "metadata": {},
   "source": [
    "Python Basics Variable"
   ]
  },
  {
   "cell_type": "markdown",
   "id": "6ba9ccca-2cc1-4481-9f9e-fc53685889a3",
   "metadata": {},
   "source": [
    "1Q Assignment"
   ]
  },
  {
   "cell_type": "code",
   "execution_count": 8,
   "id": "610f2d8c-1765-40e2-99c3-bbca2ea6a321",
   "metadata": {},
   "outputs": [],
   "source": [
    "x = 4"
   ]
  },
  {
   "cell_type": "code",
   "execution_count": 9,
   "id": "2f6269ca-cd3a-4fca-ad1a-21b1c06aa1da",
   "metadata": {},
   "outputs": [],
   "source": [
    "y = 12"
   ]
  },
  {
   "cell_type": "code",
   "execution_count": 10,
   "id": "d0318f29-423b-4fc1-895a-dfeb81553e12",
   "metadata": {},
   "outputs": [],
   "source": [
    "x , y = y , x #here the value of x is swap to y,y value is swap to x"
   ]
  },
  {
   "cell_type": "code",
   "execution_count": 11,
   "id": "3c676b7c-2c83-4c53-9289-ebc2b7394f01",
   "metadata": {},
   "outputs": [
    {
     "name": "stdout",
     "output_type": "stream",
     "text": [
      "value of x : 12\n"
     ]
    }
   ],
   "source": [
    "print(\"value of x :\",x)"
   ]
  },
  {
   "cell_type": "code",
   "execution_count": 12,
   "id": "2c25f507-421a-4a5f-b966-50ddb48bfc2a",
   "metadata": {},
   "outputs": [
    {
     "name": "stdout",
     "output_type": "stream",
     "text": [
      "value of y : 4\n"
     ]
    }
   ],
   "source": [
    "print(\"value of y :\",y)"
   ]
  },
  {
   "cell_type": "markdown",
   "id": "9edfdb81-3583-4665-96c9-25a7b44b165d",
   "metadata": {},
   "source": [
    "2Q Assignment"
   ]
  },
  {
   "cell_type": "code",
   "execution_count": 13,
   "id": "49e4b0b1-3da6-4a80-b23f-431674a58ea9",
   "metadata": {},
   "outputs": [
    {
     "name": "stdin",
     "output_type": "stream",
     "text": [
      "Enter the Length of rectangle : 5\n"
     ]
    }
   ],
   "source": [
    "lenght = int(input(\"Enter the Length of rectangle :\"))"
   ]
  },
  {
   "cell_type": "code",
   "execution_count": 14,
   "id": "095ebe19-24b3-4a65-af02-5798a2706943",
   "metadata": {},
   "outputs": [
    {
     "name": "stdin",
     "output_type": "stream",
     "text": [
      "Enter the width of rectangle : 3\n"
     ]
    }
   ],
   "source": [
    "width = int(input(\"Enter the width of rectangle :\"))"
   ]
  },
  {
   "cell_type": "code",
   "execution_count": 15,
   "id": "5a3a9a78-4bf2-470c-a777-7b26352e8b4a",
   "metadata": {},
   "outputs": [],
   "source": [
    "area = lenght * width"
   ]
  },
  {
   "cell_type": "code",
   "execution_count": 16,
   "id": "7eb85605-33fc-4123-ad31-566a519a667a",
   "metadata": {},
   "outputs": [
    {
     "name": "stdout",
     "output_type": "stream",
     "text": [
      "Area of rectangle is : 15\n"
     ]
    }
   ],
   "source": [
    "print(\"Area of rectangle is :\",area)"
   ]
  },
  {
   "cell_type": "markdown",
   "id": "8f9cb681-c2cb-4660-8383-300285f6f914",
   "metadata": {},
   "source": [
    "3Q Assignment"
   ]
  },
  {
   "cell_type": "code",
   "execution_count": 17,
   "id": "73bafa5d-57ad-4405-b174-176a055d33cd",
   "metadata": {},
   "outputs": [
    {
     "name": "stdin",
     "output_type": "stream",
     "text": [
      "enter the value of Celsius :  35\n"
     ]
    }
   ],
   "source": [
    "#Celsius_temperature = c_temp\n",
    "c_temp = float(input(\"enter the value of Celsius : \"))"
   ]
  },
  {
   "cell_type": "code",
   "execution_count": 18,
   "id": "ac38f13f-a0f0-413b-96a0-2c2f7b7f5a37",
   "metadata": {},
   "outputs": [],
   "source": [
    "#Celsuis temperature is converted into fahrenheit\n",
    "f_temp = (c_temp * 9/5) + 32"
   ]
  },
  {
   "cell_type": "code",
   "execution_count": 19,
   "id": "1b91429a-7b98-476f-abe1-f74fecf65752",
   "metadata": {},
   "outputs": [
    {
     "name": "stdout",
     "output_type": "stream",
     "text": [
      "35.0 degrees Celsius is equal to 95.0 degrees Fahrenheit.\n"
     ]
    }
   ],
   "source": [
    "print(f\"{c_temp} degrees Celsius is equal to {f_temp} degrees Fahrenheit.\")"
   ]
  },
  {
   "cell_type": "markdown",
   "id": "3087898f-25ef-4f37-be56-d2d2c67d7ab5",
   "metadata": {},
   "source": [
    "String Based Questions"
   ]
  },
  {
   "cell_type": "markdown",
   "id": "dffb9226-6a65-4197-8b49-be60039560db",
   "metadata": {},
   "source": [
    "1Q Assignment"
   ]
  },
  {
   "cell_type": "code",
   "execution_count": 23,
   "id": "75435260-050b-4f96-9a81-7a2d60a9b67f",
   "metadata": {},
   "outputs": [
    {
     "name": "stdin",
     "output_type": "stream",
     "text": [
      "enter your Good Name :  rocky\n"
     ]
    }
   ],
   "source": [
    "Name = input(\"enter your Good Name : \" ) # i have took string as input"
   ]
  },
  {
   "cell_type": "code",
   "execution_count": 24,
   "id": "a7505236-dc1c-4334-af04-439ddf4287b2",
   "metadata": {},
   "outputs": [],
   "source": [
    "lgth = len(Name) #create variable name lgth and store the lenght of the name varible with len() function"
   ]
  },
  {
   "cell_type": "code",
   "execution_count": 25,
   "id": "175f049b-f81d-43c2-8eae-09dc33dd0648",
   "metadata": {},
   "outputs": [
    {
     "name": "stdout",
     "output_type": "stream",
     "text": [
      "5\n"
     ]
    }
   ],
   "source": [
    "print(lgth) "
   ]
  },
  {
   "cell_type": "markdown",
   "id": "b1a7d49f-4016-47d8-990f-76c23b3b63ad",
   "metadata": {},
   "source": [
    "2Q Assignment"
   ]
  },
  {
   "cell_type": "code",
   "execution_count": 27,
   "id": "f88e6bee-419b-4db4-989a-d58c3260575d",
   "metadata": {},
   "outputs": [
    {
     "name": "stdin",
     "output_type": "stream",
     "text": [
      "enter any sentence :  #create variable name lgth and store the lenght of the name varible with len() function\n"
     ]
    }
   ],
   "source": [
    "String = input(\"enter any sentence : \" )"
   ]
  },
  {
   "cell_type": "code",
   "execution_count": 28,
   "id": "b0f256fb-0bbf-4225-8f31-c7f9567814ec",
   "metadata": {},
   "outputs": [],
   "source": [
    "vwl_count = 0"
   ]
  },
  {
   "cell_type": "code",
   "execution_count": 29,
   "id": "30a601c8-b0ba-41e4-b420-2592e1e5f7d7",
   "metadata": {},
   "outputs": [],
   "source": [
    "vwl = \"aeiouAEIOU\"# Define a set of vowels"
   ]
  },
  {
   "cell_type": "code",
   "execution_count": 30,
   "id": "ee10e90f-1ff4-4995-a3f5-9b46d26edc8e",
   "metadata": {},
   "outputs": [],
   "source": [
    "# Count the number of vowels in the sentence\n",
    "for char in String:\n",
    "    if char in vwl:\n",
    "        vwl_count += 1"
   ]
  },
  {
   "cell_type": "code",
   "execution_count": 33,
   "id": "f29701ac-751a-488f-afec-599eb632ae9e",
   "metadata": {},
   "outputs": [
    {
     "name": "stdout",
     "output_type": "stream",
     "text": [
      "The number of vowels in the '#create variable name lgth and store the lenght of the name varible with len() function' is: '26'\n"
     ]
    }
   ],
   "source": [
    "# Display the result\n",
    "print(f\"The number of vowels in the '{String}' is: '{vwl_count}'\")"
   ]
  },
  {
   "cell_type": "markdown",
   "id": "ca5fb3a7-f8bf-4914-b624-5ae161e370e2",
   "metadata": {},
   "source": [
    "3Q Assignment"
   ]
  },
  {
   "cell_type": "code",
   "execution_count": 35,
   "id": "ca89b808-667c-4be8-b302-aee5a182679f",
   "metadata": {},
   "outputs": [
    {
     "name": "stdin",
     "output_type": "stream",
     "text": [
      "enter any sentence :  #create variable name lgth and store the lenght of the name varible with len() function\n"
     ]
    }
   ],
   "source": [
    "Sent = input(\"enter any sentence : \" )"
   ]
  },
  {
   "cell_type": "code",
   "execution_count": 36,
   "id": "6ca55fad-cc00-40a0-8b4a-ab5fef8d2ed1",
   "metadata": {},
   "outputs": [],
   "source": [
    "reverse_sent = Sent[::-1]"
   ]
  },
  {
   "cell_type": "code",
   "execution_count": 37,
   "id": "dccba907-a51e-449c-8ca1-cbcf09841463",
   "metadata": {},
   "outputs": [
    {
     "name": "stdout",
     "output_type": "stream",
     "text": [
      "reverse on input sentence is :  noitcnuf )(nel htiw elbirav eman eht fo thgnel eht erots dna htgl eman elbairav etaerc#\n"
     ]
    }
   ],
   "source": [
    "print(\"reverse on input sentence is : \" ,reverse_sent)"
   ]
  },
  {
   "cell_type": "markdown",
   "id": "e6f168ab-75a6-4357-98c7-e502ac579e7b",
   "metadata": {},
   "source": [
    "4Q Assignment"
   ]
  },
  {
   "cell_type": "code",
   "execution_count": 38,
   "id": "902df95a-fef3-461f-9369-41e6ce529aab",
   "metadata": {},
   "outputs": [
    {
     "name": "stdin",
     "output_type": "stream",
     "text": [
      "Enter an string :  pwskillikswp\n"
     ]
    },
    {
     "name": "stdout",
     "output_type": "stream",
     "text": [
      "Reverse string :  pwskillikswp\n",
      "pwskillikswp string is Palindrom\n"
     ]
    }
   ],
   "source": [
    "str =  input (\"Enter an string : \")\n",
    "# Print the reversed version of the input string using slicing ([::-1])\n",
    "print(\"Reverse string : \",str[::-1])\n",
    "\n",
    "if str == str[::-1]:# If the condition is true, print that the string is a palindrome\n",
    "    print(f\"{str} string is Palindrom\")\n",
    "\n",
    "else:# If the condition is false, print that the string is not a palindrome\n",
    "    print(f\"{str} string is not a Palindrom\")"
   ]
  },
  {
   "cell_type": "markdown",
   "id": "4d4a716a-da03-4f1f-a5f3-d4c6dd01e7b9",
   "metadata": {},
   "source": [
    "5Q Assignment"
   ]
  },
  {
   "cell_type": "code",
   "execution_count": 39,
   "id": "8485ce05-c5ba-4b25-a86d-a2243bc13648",
   "metadata": {},
   "outputs": [
    {
     "name": "stdin",
     "output_type": "stream",
     "text": [
      "ENter any string :  #create variable name lgth and store the lenght of the name varible with len() function\n"
     ]
    }
   ],
   "source": [
    "String_2 = input(\"ENter any string : \")"
   ]
  },
  {
   "cell_type": "code",
   "execution_count": 40,
   "id": "a3a55964-03eb-4d26-a1bf-ef7ef2f7e750",
   "metadata": {},
   "outputs": [],
   "source": [
    "# Remove spaces from the input string using the replace() method\n",
    "result_str = String_2.replace(\" \",\"\")"
   ]
  },
  {
   "cell_type": "code",
   "execution_count": 41,
   "id": "08329560-2448-4ec6-a38f-b32ba433c530",
   "metadata": {},
   "outputs": [
    {
     "name": "stdout",
     "output_type": "stream",
     "text": [
      "String with remove the spaces :  #createvariablenamelgthandstorethelenghtofthenamevariblewithlen()function\n"
     ]
    }
   ],
   "source": [
    "# Print the modified string without spaces\n",
    "print(\"String with remove the spaces : \",result_str)"
   ]
  },
  {
   "cell_type": "code",
   "execution_count": null,
   "id": "37080af2-55da-40cb-922d-8302a2c0577f",
   "metadata": {},
   "outputs": [],
   "source": []
  }
 ],
 "metadata": {
  "kernelspec": {
   "display_name": "Python 3 (ipykernel)",
   "language": "python",
   "name": "python3"
  },
  "language_info": {
   "codemirror_mode": {
    "name": "ipython",
    "version": 3
   },
   "file_extension": ".py",
   "mimetype": "text/x-python",
   "name": "python",
   "nbconvert_exporter": "python",
   "pygments_lexer": "ipython3",
   "version": "3.10.8"
  }
 },
 "nbformat": 4,
 "nbformat_minor": 5
}
